{
 "cells": [
  {
   "cell_type": "code",
   "execution_count": 9,
   "metadata": {
    "collapsed": false
   },
   "outputs": [
    {
     "name": "stdout",
     "output_type": "stream",
     "text": [
      "('Tot:', 247, '   Missed:', 15, '  Agreed:', 133)\n"
     ]
    }
   ],
   "source": [
    "import json\n",
    "\n",
    "text_scores_f = \"JPL_TEXTONLY_SVM_fall-eval-predicts.json\"\n",
    "image_scores_f = \"201607QPR_base.201611_data.iter_85000.dan_run.scores.avg.jl\"\n",
    "merged_scores_f = \"JPL_Kitware_merged_text-image-eq-wts.jl\"\n",
    "\n",
    "def read_file(f_n):\n",
    "    with open(f_n) as recs:\n",
    "        return list(map(json.loads, recs))\n",
    "\n",
    "def index(recs):\n",
    "    res = {}\n",
    "    for rec in recs:\n",
    "        res[rec['cluster_id']] = rec['score']\n",
    "    return res\n",
    "\n",
    "\n",
    "img_recs = index(read_file(image_scores))\n",
    "text_recs = read_file(text_scores)\n",
    "\n",
    "with open(merged_scores_f, 'w') as out:\n",
    "    ok, tot, miss = 0, 0, 0\n",
    "    for tr in text_recs:\n",
    "        tot += 1\n",
    "        cid, score1 = tr['cluster_id'], tr['score']\n",
    "        if cid in img_recs:\n",
    "            score2 = img_recs[cid]\n",
    "            tr['score']  = 0.5 *(score1 + score2 ) # average of two\n",
    "            if (score1 < 0.5 and score2 < 0.5) or \\\n",
    "                (score1 > 0.5 and score2 > 0.5):\n",
    "                    ok += 1\n",
    "        else:\n",
    "            miss += 1\n",
    "        out.write(json.dumps(tr))\n",
    "        out.write('\\n')\n",
    "    print(\"Tot:\", tot, \"   Missed:\", miss, \"  Agreed:\", ok)"
   ]
  },
  {
   "cell_type": "code",
   "execution_count": 10,
   "metadata": {
    "collapsed": false
   },
   "outputs": [
    {
     "name": "stdout",
     "output_type": "stream",
     "text": [
      "201607QPR_base.201611_data.iter_85000.dan_run.scores.avg.jl\r\n",
      "CP1_eval_script.py\r\n",
      "JPL_Kitware_merged_text-image-eq-wts.jl\r\n",
      "JPL_TEXTONLY_SVM_fall-eval-predicts.json\r\n",
      "fall-eval-predicts-submission.json~\r\n",
      "ground_truth_CP1_v3.json\r\n",
      "merge_image_text.ipynb\r\n",
      "output.pdf\r\n",
      "output2.pdf\r\n",
      "summer-eval-predicts-submission.json\r\n",
      "summer-eval-predicts-submission.json~\r\n"
     ]
    }
   ],
   "source": [
    "!ls"
   ]
  },
  {
   "cell_type": "code",
   "execution_count": 15,
   "metadata": {
    "collapsed": false
   },
   "outputs": [
    {
     "data": {
      "image/png": "[encoded data removed]",
      "text/plain": [
       "<matplotlib.figure.Figure at 0x11029ebd0>"
      ]
     },
     "metadata": {},
     "output_type": "display_data"
    }
   ],
   "source": [
    "import pylab as pl\n",
    "import numpy as np\n",
    "\n",
    "d = img_recs\n",
    "X = np.arange(len(d))\n",
    "pl.bar(X, d.values(), width=1)\n",
    "pl.xticks(X, d.keys())\n",
    "ymax = max(d.values())\n",
    "pl.ylim(0, ymax)\n",
    "pl.show()\n",
    "\n",
    "\n"
   ]
  },
  {
   "cell_type": "code",
   "execution_count": null,
   "metadata": {
    "collapsed": true
   },
   "outputs": [],
   "source": []
  }
 ],
 "metadata": {
  "anaconda-cloud": {},
  "kernelspec": {
   "display_name": "Python [default]",
   "language": "python",
   "name": "python2"
  },
  "language_info": {
   "codemirror_mode": {
    "name": "ipython",
    "version": 2
   },
   "file_extension": ".py",
   "mimetype": "text/x-python",
   "name": "python",
   "nbconvert_exporter": "python",
   "pygments_lexer": "ipython2",
   "version": "2.7.10"
  }
 },
 "nbformat": 4,
 "nbformat_minor": 1
}
